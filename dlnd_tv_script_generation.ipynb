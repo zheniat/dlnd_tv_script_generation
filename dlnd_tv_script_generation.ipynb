{
 "cells": [
  {
   "cell_type": "markdown",
   "metadata": {
    "deletable": true,
    "editable": true
   },
   "source": [
    "# TV Script Generation\n",
    "In this project, you'll generate your own [Simpsons](https://en.wikipedia.org/wiki/The_Simpsons) TV scripts using RNNs.  You'll be using part of the [Simpsons dataset](https://www.kaggle.com/wcukierski/the-simpsons-by-the-data) of scripts from 27 seasons.  The Neural Network you'll build will generate a new TV script for a scene at [Moe's Tavern](https://simpsonswiki.com/wiki/Moe's_Tavern).\n",
    "## Get the Data\n",
    "The data is already provided for you.  You'll be using a subset of the original dataset.  It consists of only the scenes in Moe's Tavern.  This doesn't include other versions of the tavern, like \"Moe's Cavern\", \"Flaming Moe's\", \"Uncle Moe's Family Feed-Bag\", etc.."
   ]
  },
  {
   "cell_type": "code",
   "execution_count": 1,
   "metadata": {
    "collapsed": false,
    "deletable": true,
    "editable": true
   },
   "outputs": [],
   "source": [
    "\"\"\"\n",
    "DON'T MODIFY ANYTHING IN THIS CELL\n",
    "\"\"\"\n",
    "import helper\n",
    "\n",
    "data_dir = './data/simpsons/moes_tavern_lines.txt'\n",
    "text = helper.load_data(data_dir)\n",
    "# Ignore notice, since we don't use it for analysing the data\n",
    "text = text[81:]"
   ]
  },
  {
   "cell_type": "markdown",
   "metadata": {
    "deletable": true,
    "editable": true
   },
   "source": [
    "## Explore the Data\n",
    "Play around with `view_sentence_range` to view different parts of the data."
   ]
  },
  {
   "cell_type": "code",
   "execution_count": 2,
   "metadata": {
    "collapsed": false,
    "deletable": true,
    "editable": true
   },
   "outputs": [
    {
     "name": "stdout",
     "output_type": "stream",
     "text": [
      "Dataset Stats\n",
      "Roughly the number of unique words: 11492\n",
      "Number of scenes: 262\n",
      "Average number of sentences in each scene: 15.248091603053435\n",
      "Number of lines: 4257\n",
      "Average number of words in each line: 11.50434578341555\n",
      "\n",
      "The sentences 5 to 20:\n",
      "Homer_Simpson: I got my problems, Moe. Give me another one.\n",
      "Moe_Szyslak: Homer, hey, you should not drink to forget your problems.\n",
      "Barney_Gumble: Yeah, you should only drink to enhance your social skills.\n",
      "\n",
      "\n",
      "Moe_Szyslak: Ah, isn't that nice. Now, there is a politician who cares.\n",
      "Barney_Gumble: If I ever vote, it'll be for him. (BELCH)\n",
      "\n",
      "\n",
      "Barney_Gumble: Hey Homer, how's your neighbor's store doing?\n",
      "Homer_Simpson: Lousy. He just sits there all day. He'd have a great job if he didn't own the place. (CHUCKLES)\n",
      "Moe_Szyslak: (STRUGGLING WITH CORKSCREW) Crummy right-handed corkscrews! What does he sell?\n",
      "Homer_Simpson: Uh, well actually, Moe...\n",
      "HOMER_(CONT'D: I dunno.\n",
      "\n"
     ]
    }
   ],
   "source": [
    "view_sentence_range = (5, 20)\n",
    "\n",
    "\"\"\"\n",
    "DON'T MODIFY ANYTHING IN THIS CELL\n",
    "\"\"\"\n",
    "import numpy as np\n",
    "\n",
    "print('Dataset Stats')\n",
    "print('Roughly the number of unique words: {}'.format(len({word: None for word in text.split()})))\n",
    "scenes = text.split('\\n\\n')\n",
    "print('Number of scenes: {}'.format(len(scenes)))\n",
    "sentence_count_scene = [scene.count('\\n') for scene in scenes]\n",
    "print('Average number of sentences in each scene: {}'.format(np.average(sentence_count_scene)))\n",
    "\n",
    "sentences = [sentence for scene in scenes for sentence in scene.split('\\n')]\n",
    "print('Number of lines: {}'.format(len(sentences)))\n",
    "word_count_sentence = [len(sentence.split()) for sentence in sentences]\n",
    "print('Average number of words in each line: {}'.format(np.average(word_count_sentence)))\n",
    "\n",
    "print()\n",
    "print('The sentences {} to {}:'.format(*view_sentence_range))\n",
    "print('\\n'.join(text.split('\\n')[view_sentence_range[0]:view_sentence_range[1]]))"
   ]
  },
  {
   "cell_type": "markdown",
   "metadata": {
    "deletable": true,
    "editable": true
   },
   "source": [
    "## Implement Preprocessing Functions\n",
    "The first thing to do to any dataset is preprocessing.  Implement the following preprocessing functions below:\n",
    "- Lookup Table\n",
    "- Tokenize Punctuation\n",
    "\n",
    "### Lookup Table\n",
    "To create a word embedding, you first need to transform the words to ids.  In this function, create two dictionaries:\n",
    "- Dictionary to go from the words to an id, we'll call `vocab_to_int`\n",
    "- Dictionary to go from the id to word, we'll call `int_to_vocab`\n",
    "\n",
    "Return these dictionaries in the following tuple `(vocab_to_int, int_to_vocab)`"
   ]
  },
  {
   "cell_type": "code",
   "execution_count": 3,
   "metadata": {
    "collapsed": false,
    "deletable": true,
    "editable": true
   },
   "outputs": [
    {
     "name": "stdout",
     "output_type": "stream",
     "text": [
      "Tests Passed\n"
     ]
    }
   ],
   "source": [
    "import numpy as np\n",
    "import problem_unittests as tests\n",
    "from collections import Counter\n",
    "\n",
    "def create_lookup_tables(text):\n",
    "    \"\"\"\n",
    "    Create lookup tables for vocabulary\n",
    "    :param text: The text of tv scripts split into words\n",
    "    :return: A tuple of dicts (vocab_to_int, int_to_vocab)\n",
    "    \"\"\"\n",
    "    counts = Counter(text)\n",
    "    vocab = sorted(counts, key=counts.get, reverse=True)\n",
    "    vocab_to_int = {word: i for i, word in enumerate(vocab)}\n",
    "    int_to_vocab = {i: word for word, i in vocab_to_int.items() }\n",
    "\n",
    "    return vocab_to_int, int_to_vocab\n",
    "\n",
    "\n",
    "\"\"\"\n",
    "DON'T MODIFY ANYTHING IN THIS CELL THAT IS BELOW THIS LINE\n",
    "\"\"\"\n",
    "tests.test_create_lookup_tables(create_lookup_tables)"
   ]
  },
  {
   "cell_type": "markdown",
   "metadata": {
    "deletable": true,
    "editable": true
   },
   "source": [
    "### Tokenize Punctuation\n",
    "We'll be splitting the script into a word array using spaces as delimiters.  However, punctuations like periods and exclamation marks make it hard for the neural network to distinguish between the word \"bye\" and \"bye!\".\n",
    "\n",
    "Implement the function `token_lookup` to return a dict that will be used to tokenize symbols like \"!\" into \"||Exclamation_Mark||\".  Create a dictionary for the following symbols where the symbol is the key and value is the token:\n",
    "- Period ( . )\n",
    "- Comma ( , )\n",
    "- Quotation Mark ( \" )\n",
    "- Semicolon ( ; )\n",
    "- Exclamation mark ( ! )\n",
    "- Question mark ( ? )\n",
    "- Left Parentheses ( ( )\n",
    "- Right Parentheses ( ) )\n",
    "- Dash ( -- )\n",
    "- Return ( \\n )\n",
    "\n",
    "This dictionary will be used to token the symbols and add the delimiter (space) around it.  This separates the symbols as it's own word, making it easier for the neural network to predict on the next word. Make sure you don't use a token that could be confused as a word. Instead of using the token \"dash\", try using something like \"||dash||\"."
   ]
  },
  {
   "cell_type": "code",
   "execution_count": 4,
   "metadata": {
    "collapsed": false,
    "deletable": true,
    "editable": true
   },
   "outputs": [
    {
     "name": "stdout",
     "output_type": "stream",
     "text": [
      "Tests Passed\n"
     ]
    }
   ],
   "source": [
    "def token_lookup():\n",
    "    \"\"\"\n",
    "    Generate a dict to turn punctuation into a token.\n",
    "    :return: Tokenize dictionary where the key is the punctuation and the value is the token\n",
    "    \"\"\"\n",
    "    token_dict = {'.':'||period||', \n",
    "                  ',':'||comma||',\n",
    "                  '\"':'||quotation||',\n",
    "                  ';':'||semicolon||',\n",
    "                  '!':'||exclamation||',\n",
    "                  '?':'||question||',\n",
    "                  '(':'||left_parentheses||',\n",
    "                  ')':'||right_parentheses||',                  \n",
    "                  '--':'||dash||',\n",
    "                  '\\n':'||return||'           \n",
    "                 }\n",
    "    return token_dict\n",
    "\n",
    "\"\"\"\n",
    "DON'T MODIFY ANYTHING IN THIS CELL THAT IS BELOW THIS LINE\n",
    "\"\"\"\n",
    "tests.test_tokenize(token_lookup)"
   ]
  },
  {
   "cell_type": "markdown",
   "metadata": {
    "deletable": true,
    "editable": true
   },
   "source": [
    "## Preprocess all the data and save it\n",
    "Running the code cell below will preprocess all the data and save it to file."
   ]
  },
  {
   "cell_type": "code",
   "execution_count": 5,
   "metadata": {
    "collapsed": false,
    "deletable": true,
    "editable": true
   },
   "outputs": [],
   "source": [
    "\"\"\"\n",
    "DON'T MODIFY ANYTHING IN THIS CELL\n",
    "\"\"\"\n",
    "# Preprocess Training, Validation, and Testing Data\n",
    "helper.preprocess_and_save_data(data_dir, token_lookup, create_lookup_tables)"
   ]
  },
  {
   "cell_type": "markdown",
   "metadata": {
    "deletable": true,
    "editable": true
   },
   "source": [
    "# Check Point\n",
    "This is your first checkpoint. If you ever decide to come back to this notebook or have to restart the notebook, you can start from here. The preprocessed data has been saved to disk."
   ]
  },
  {
   "cell_type": "code",
   "execution_count": 6,
   "metadata": {
    "collapsed": false,
    "deletable": true,
    "editable": true
   },
   "outputs": [],
   "source": [
    "\"\"\"\n",
    "DON'T MODIFY ANYTHING IN THIS CELL\n",
    "\"\"\"\n",
    "import helper\n",
    "import numpy as np\n",
    "import problem_unittests as tests\n",
    "\n",
    "int_text, vocab_to_int, int_to_vocab, token_dict = helper.load_preprocess()"
   ]
  },
  {
   "cell_type": "markdown",
   "metadata": {
    "deletable": true,
    "editable": true
   },
   "source": [
    "## Build the Neural Network\n",
    "You'll build the components necessary to build a RNN by implementing the following functions below:\n",
    "- get_inputs\n",
    "- get_init_cell\n",
    "- get_embed\n",
    "- build_rnn\n",
    "- build_nn\n",
    "- get_batches\n",
    "\n",
    "### Check the Version of TensorFlow and Access to GPU"
   ]
  },
  {
   "cell_type": "code",
   "execution_count": 7,
   "metadata": {
    "collapsed": false
   },
   "outputs": [
    {
     "name": "stdout",
     "output_type": "stream",
     "text": [
      "TensorFlow Version: 1.0.1\n",
      "Default GPU Device: /gpu:0\n"
     ]
    }
   ],
   "source": [
    "\"\"\"\n",
    "DON'T MODIFY ANYTHING IN THIS CELL\n",
    "\"\"\"\n",
    "from distutils.version import LooseVersion\n",
    "import warnings\n",
    "import tensorflow as tf\n",
    "\n",
    "# Check TensorFlow Version\n",
    "assert LooseVersion(tf.__version__) >= LooseVersion('1.0'), 'Please use TensorFlow version 1.0 or newer'\n",
    "print('TensorFlow Version: {}'.format(tf.__version__))\n",
    "\n",
    "# Check for a GPU\n",
    "if not tf.test.gpu_device_name():\n",
    "    warnings.warn('No GPU found. Please use a GPU to train your neural network.')\n",
    "else:\n",
    "    print('Default GPU Device: {}'.format(tf.test.gpu_device_name()))"
   ]
  },
  {
   "cell_type": "markdown",
   "metadata": {},
   "source": [
    "### Input\n",
    "Implement the `get_inputs()` function to create TF Placeholders for the Neural Network.  It should create the following placeholders:\n",
    "- Input text placeholder named \"input\" using the [TF Placeholder](https://www.tensorflow.org/api_docs/python/tf/placeholder) `name` parameter.\n",
    "- Targets placeholder\n",
    "- Learning Rate placeholder\n",
    "\n",
    "Return the placeholders in the following the tuple `(Input, Targets, LearingRate)`"
   ]
  },
  {
   "cell_type": "code",
   "execution_count": 8,
   "metadata": {
    "collapsed": false,
    "deletable": true,
    "editable": true
   },
   "outputs": [
    {
     "name": "stdout",
     "output_type": "stream",
     "text": [
      "Tests Passed\n"
     ]
    }
   ],
   "source": [
    "def get_inputs():\n",
    "    \"\"\"\n",
    "    Create TF Placeholders for input, targets, and learning rate.\n",
    "    :return: Tuple (input, targets, learning rate)\n",
    "    \"\"\"\n",
    "    inputs = tf.placeholder(tf.int32, [None, None], name = 'input')\n",
    "    targets = tf.placeholder(tf.int32, [None, None], name = 'targets')\n",
    "    learning_rate = tf.placeholder(tf.float32)\n",
    "    return inputs, targets, learning_rate\n",
    "\n",
    "\n",
    "\"\"\"\n",
    "DON'T MODIFY ANYTHING IN THIS CELL THAT IS BELOW THIS LINE\n",
    "\"\"\"\n",
    "tests.test_get_inputs(get_inputs)"
   ]
  },
  {
   "cell_type": "markdown",
   "metadata": {
    "deletable": true,
    "editable": true
   },
   "source": [
    "### Build RNN Cell and Initialize\n",
    "Stack one or more [`BasicLSTMCells`](https://www.tensorflow.org/api_docs/python/tf/contrib/rnn/BasicLSTMCell) in a [`MultiRNNCell`](https://www.tensorflow.org/api_docs/python/tf/contrib/rnn/MultiRNNCell).\n",
    "- The Rnn size should be set using `rnn_size`\n",
    "- Initalize Cell State using the MultiRNNCell's [`zero_state()`](https://www.tensorflow.org/api_docs/python/tf/contrib/rnn/MultiRNNCell#zero_state) function\n",
    "    - Apply the name \"initial_state\" to the initial state using [`tf.identity()`](https://www.tensorflow.org/api_docs/python/tf/identity)\n",
    "\n",
    "Return the cell and initial state in the following tuple `(Cell, InitialState)`"
   ]
  },
  {
   "cell_type": "code",
   "execution_count": 9,
   "metadata": {
    "collapsed": false,
    "deletable": true,
    "editable": true
   },
   "outputs": [
    {
     "name": "stdout",
     "output_type": "stream",
     "text": [
      "Tests Passed\n"
     ]
    }
   ],
   "source": [
    "def get_init_cell(batch_size, rnn_size):\n",
    "    \"\"\"\n",
    "    Create an RNN Cell and initialize it.\n",
    "    :param batch_size: Size of batches\n",
    "    :param rnn_size: Size of RNNs\n",
    "    :return: Tuple (cell, initialize state)\n",
    "    \"\"\"\n",
    "    lstm = tf.contrib.rnn.BasicLSTMCell(rnn_size)\n",
    "    \n",
    "    lstm_layers = 1\n",
    "    cell = tf.contrib.rnn.MultiRNNCell([lstm] * lstm_layers)\n",
    "    \n",
    "    initial_state = cell.zero_state(batch_size, tf.float32)\n",
    "    return cell, tf.identity(initial_state, name = 'initial_state')\n",
    "\n",
    "\n",
    "\"\"\"\n",
    "DON'T MODIFY ANYTHING IN THIS CELL THAT IS BELOW THIS LINE\n",
    "\"\"\"\n",
    "tests.test_get_init_cell(get_init_cell)"
   ]
  },
  {
   "cell_type": "markdown",
   "metadata": {
    "deletable": true,
    "editable": true
   },
   "source": [
    "### Word Embedding\n",
    "Apply embedding to `input_data` using TensorFlow.  Return the embedded sequence."
   ]
  },
  {
   "cell_type": "code",
   "execution_count": 10,
   "metadata": {
    "collapsed": false,
    "deletable": true,
    "editable": true
   },
   "outputs": [
    {
     "name": "stdout",
     "output_type": "stream",
     "text": [
      "Tests Passed\n"
     ]
    }
   ],
   "source": [
    "def get_embed(input_data, vocab_size, embed_dim):\n",
    "    \"\"\"\n",
    "    Create embedding for <input_data>.\n",
    "    :param input_data: TF placeholder for text input.\n",
    "    :param vocab_size: Number of words in vocabulary.\n",
    "    :param embed_dim: Number of embedding dimensions\n",
    "    :return: Embedded input.\n",
    "    \"\"\"\n",
    "    embedding = tf.Variable(tf.random_uniform((vocab_size, embed_dim), -1, 1))\n",
    "    embed = tf.nn.embedding_lookup(embedding, input_data)\n",
    "    return embed\n",
    "\n",
    "\n",
    "\"\"\"\n",
    "DON'T MODIFY ANYTHING IN THIS CELL THAT IS BELOW THIS LINE\n",
    "\"\"\"\n",
    "tests.test_get_embed(get_embed)"
   ]
  },
  {
   "cell_type": "markdown",
   "metadata": {
    "deletable": true,
    "editable": true
   },
   "source": [
    "### Build RNN\n",
    "You created a RNN Cell in the `get_init_cell()` function.  Time to use the cell to create a RNN.\n",
    "- Build the RNN using the [`tf.nn.dynamic_rnn()`](https://www.tensorflow.org/api_docs/python/tf/nn/dynamic_rnn)\n",
    " - Apply the name \"final_state\" to the final state using [`tf.identity()`](https://www.tensorflow.org/api_docs/python/tf/identity)\n",
    "\n",
    "Return the outputs and final_state state in the following tuple `(Outputs, FinalState)` "
   ]
  },
  {
   "cell_type": "code",
   "execution_count": 11,
   "metadata": {
    "collapsed": false,
    "deletable": true,
    "editable": true
   },
   "outputs": [
    {
     "name": "stdout",
     "output_type": "stream",
     "text": [
      "Tests Passed\n"
     ]
    }
   ],
   "source": [
    "def build_rnn(cell, inputs):\n",
    "    \"\"\"\n",
    "    Create a RNN using a RNN Cell\n",
    "    :param cell: RNN Cell\n",
    "    :param inputs: Input text data\n",
    "    :return: Tuple (Outputs, Final State)\n",
    "    \"\"\"\n",
    "    outputs, final_state = tf.nn.dynamic_rnn(cell, inputs, dtype=tf.float32)\n",
    "    \n",
    "    return outputs, tf.identity(final_state, name='final_state')\n",
    "\n",
    "\n",
    "\"\"\"\n",
    "DON'T MODIFY ANYTHING IN THIS CELL THAT IS BELOW THIS LINE\n",
    "\"\"\"\n",
    "tests.test_build_rnn(build_rnn)"
   ]
  },
  {
   "cell_type": "markdown",
   "metadata": {
    "deletable": true,
    "editable": true
   },
   "source": [
    "### Build the Neural Network\n",
    "Apply the functions you implemented above to:\n",
    "- Apply embedding to `input_data` using your `get_embed(input_data, vocab_size, embed_dim)` function.\n",
    "- Build RNN using `cell` and your `build_rnn(cell, inputs)` function.\n",
    "- Apply a fully connected layer with a linear activation and `vocab_size` as the number of outputs.\n",
    "\n",
    "Return the logits and final state in the following tuple (Logits, FinalState) "
   ]
  },
  {
   "cell_type": "code",
   "execution_count": 12,
   "metadata": {
    "collapsed": false,
    "deletable": true,
    "editable": true
   },
   "outputs": [
    {
     "name": "stdout",
     "output_type": "stream",
     "text": [
      "Tests Passed\n"
     ]
    }
   ],
   "source": [
    "def build_nn(cell, rnn_size, input_data, vocab_size):\n",
    "    \"\"\"\n",
    "    Build part of the neural network\n",
    "    :param cell: RNN cell\n",
    "    :param rnn_size: Size of rnns\n",
    "    :param input_data: Input data\n",
    "    :param vocab_size: Vocabulary size\n",
    "    :return: Tuple (Logits, FinalState)\n",
    "    \"\"\"\n",
    "\n",
    "    embed = get_embed(input_data, vocab_size, rnn_size)\n",
    "    \n",
    "    outputs, final_state = build_rnn(cell, embed)\n",
    "    \n",
    "    logits = tf.contrib.layers.fully_connected(outputs, \n",
    "                                               vocab_size, \n",
    "                                               activation_fn=None,\n",
    "                                               weights_initializer=tf.truncated_normal_initializer(stddev=0.1), \n",
    "                                               biases_initializer=tf.zeros_initializer()\n",
    "                                               )\n",
    "    \n",
    "    return logits, final_state\n",
    "\n",
    "\n",
    "\"\"\"\n",
    "DON'T MODIFY ANYTHING IN THIS CELL THAT IS BELOW THIS LINE\n",
    "\"\"\"\n",
    "tests.test_build_nn(build_nn)"
   ]
  },
  {
   "cell_type": "markdown",
   "metadata": {
    "deletable": true,
    "editable": true
   },
   "source": [
    "### Batches\n",
    "Implement `get_batches` to create batches of input and targets using `int_text`.  The batches should be a Numpy array with the shape `(number of batches, 2, batch size, sequence length)`. Each batch contains two elements:\n",
    "- The first element is a single batch of **input** with the shape `[batch size, sequence length]`\n",
    "- The second element is a single batch of **targets** with the shape `[batch size, sequence length]`\n",
    "\n",
    "If you can't fill the last batch with enough data, drop the last batch.\n",
    "\n",
    "For exmple, `get_batches([1, 2, 3, 4, 5, 6, 7, 8, 9, 10, 11, 12, 13, 14, 15], 2, 3)` would return a Numpy array of the following:\n",
    "```\n",
    "[\n",
    "  # First Batch\n",
    "  [\n",
    "    # Batch of Input\n",
    "    [[ 1  2  3], [ 7  8  9]],\n",
    "    # Batch of targets\n",
    "    [[ 2  3  4], [ 8  9 10]]\n",
    "  ],\n",
    " \n",
    "  # Second Batch\n",
    "  [\n",
    "    # Batch of Input\n",
    "    [[ 4  5  6], [10 11 12]],\n",
    "    # Batch of targets\n",
    "    [[ 5  6  7], [11 12 13]]\n",
    "  ]\n",
    "]\n",
    "```"
   ]
  },
  {
   "cell_type": "code",
   "execution_count": 13,
   "metadata": {
    "collapsed": false
   },
   "outputs": [
    {
     "name": "stdout",
     "output_type": "stream",
     "text": [
      "Tests Passed\n"
     ]
    }
   ],
   "source": [
    "def get_batches(int_text, batch_size, seq_length):\n",
    "    \"\"\"\n",
    "    Return batches of input and target\n",
    "    :param int_text: Text with the words replaced by their ids\n",
    "    :param batch_size: The size of batch\n",
    "    :param seq_length: The length of sequence\n",
    "    :return: A list where each item is a tuple of (batch of input, batch of target).\n",
    "    \"\"\"\n",
    "    n_batches = int(len(int_text) / (batch_size * seq_length))\n",
    "\n",
    "    #truncate to match the batch size    \n",
    "    xdata = np.array(int_text[: n_batches * batch_size * seq_length])\n",
    "    ydata = np.array(int_text[1: n_batches * batch_size * seq_length + 1])\n",
    "\n",
    "    x_batches = np.split(xdata.reshape(batch_size, -1), n_batches, 1)\n",
    "    y_batches = np.split(ydata.reshape(batch_size, -1), n_batches, 1)\n",
    "    \n",
    "    return np.array(list(zip(x_batches, y_batches)))\n",
    "\"\"\"\n",
    "DON'T MODIFY ANYTHING IN THIS CELL THAT IS BELOW THIS LINE\n",
    "\"\"\"\n",
    "tests.test_get_batches(get_batches)"
   ]
  },
  {
   "cell_type": "markdown",
   "metadata": {
    "deletable": true,
    "editable": true
   },
   "source": [
    "## Neural Network Training\n",
    "### Hyperparameters\n",
    "Tune the following parameters:\n",
    "\n",
    "- Set `num_epochs` to the number of epochs.\n",
    "- Set `batch_size` to the batch size.\n",
    "- Set `rnn_size` to the size of the RNNs.\n",
    "- Set `seq_length` to the length of sequence.\n",
    "- Set `learning_rate` to the learning rate.\n",
    "- Set `show_every_n_batches` to the number of batches the neural network should print progress."
   ]
  },
  {
   "cell_type": "code",
   "execution_count": 14,
   "metadata": {
    "collapsed": true,
    "deletable": true,
    "editable": true
   },
   "outputs": [],
   "source": [
    "# Number of Epochs\n",
    "num_epochs = 90\n",
    "# Batch Size\n",
    "batch_size = 256\n",
    "# RNN Size\n",
    "rnn_size = 500\n",
    "# Sequence Length\n",
    "seq_length = 20\n",
    "# Learning Rate\n",
    "learning_rate = 0.005\n",
    "# Show stats for every n number of batches\n",
    "show_every_n_batches = 5\n",
    "\n",
    "\"\"\"\n",
    "DON'T MODIFY ANYTHING IN THIS CELL THAT IS BELOW THIS LINE\n",
    "\"\"\"\n",
    "save_dir = './save'"
   ]
  },
  {
   "cell_type": "markdown",
   "metadata": {
    "deletable": true,
    "editable": true
   },
   "source": [
    "### Build the Graph\n",
    "Build the graph using the neural network you implemented."
   ]
  },
  {
   "cell_type": "code",
   "execution_count": 15,
   "metadata": {
    "collapsed": false,
    "deletable": true,
    "editable": true
   },
   "outputs": [],
   "source": [
    "\"\"\"\n",
    "DON'T MODIFY ANYTHING IN THIS CELL\n",
    "\"\"\"\n",
    "from tensorflow.contrib import seq2seq\n",
    "\n",
    "train_graph = tf.Graph()\n",
    "with train_graph.as_default():\n",
    "    vocab_size = len(int_to_vocab)\n",
    "    input_text, targets, lr = get_inputs()\n",
    "    input_data_shape = tf.shape(input_text)\n",
    "    cell, initial_state = get_init_cell(input_data_shape[0], rnn_size)\n",
    "    logits, final_state = build_nn(cell, rnn_size, input_text, vocab_size)\n",
    "\n",
    "    # Probabilities for generating words\n",
    "    probs = tf.nn.softmax(logits, name='probs')\n",
    "\n",
    "    # Loss function\n",
    "    cost = seq2seq.sequence_loss(\n",
    "        logits,\n",
    "        targets,\n",
    "        tf.ones([input_data_shape[0], input_data_shape[1]]))\n",
    "\n",
    "    # Optimizer\n",
    "    optimizer = tf.train.AdamOptimizer(lr)\n",
    "\n",
    "    # Gradient Clipping\n",
    "    gradients = optimizer.compute_gradients(cost)\n",
    "    capped_gradients = [(tf.clip_by_value(grad, -1., 1.), var) for grad, var in gradients]\n",
    "    train_op = optimizer.apply_gradients(capped_gradients)"
   ]
  },
  {
   "cell_type": "markdown",
   "metadata": {
    "deletable": true,
    "editable": true
   },
   "source": [
    "## Train\n",
    "Train the neural network on the preprocessed data.  If you have a hard time getting a good loss, check the [forms](https://discussions.udacity.com/) to see if anyone is having the same problem."
   ]
  },
  {
   "cell_type": "code",
   "execution_count": 16,
   "metadata": {
    "collapsed": false,
    "deletable": true,
    "editable": true
   },
   "outputs": [
    {
     "name": "stdout",
     "output_type": "stream",
     "text": [
      "Epoch   0 Batch    0/13   train_loss = 8.865\n",
      "Epoch   0 Batch    5/13   train_loss = 6.386\n",
      "Epoch   0 Batch   10/13   train_loss = 5.960\n",
      "Epoch   1 Batch    2/13   train_loss = 5.178\n",
      "Epoch   1 Batch    7/13   train_loss = 5.113\n",
      "Epoch   1 Batch   12/13   train_loss = 4.984\n",
      "Epoch   2 Batch    4/13   train_loss = 4.662\n",
      "Epoch   2 Batch    9/13   train_loss = 4.533\n",
      "Epoch   3 Batch    1/13   train_loss = 4.283\n",
      "Epoch   3 Batch    6/13   train_loss = 4.235\n",
      "Epoch   3 Batch   11/13   train_loss = 4.024\n",
      "Epoch   4 Batch    3/13   train_loss = 3.849\n",
      "Epoch   4 Batch    8/13   train_loss = 3.659\n",
      "Epoch   5 Batch    0/13   train_loss = 3.410\n",
      "Epoch   5 Batch    5/13   train_loss = 3.364\n",
      "Epoch   5 Batch   10/13   train_loss = 3.197\n",
      "Epoch   6 Batch    2/13   train_loss = 3.033\n",
      "Epoch   6 Batch    7/13   train_loss = 2.837\n",
      "Epoch   6 Batch   12/13   train_loss = 2.775\n",
      "Epoch   7 Batch    4/13   train_loss = 2.564\n",
      "Epoch   7 Batch    9/13   train_loss = 2.484\n",
      "Epoch   8 Batch    1/13   train_loss = 2.283\n",
      "Epoch   8 Batch    6/13   train_loss = 2.182\n",
      "Epoch   8 Batch   11/13   train_loss = 2.086\n",
      "Epoch   9 Batch    3/13   train_loss = 1.976\n",
      "Epoch   9 Batch    8/13   train_loss = 1.885\n",
      "Epoch  10 Batch    0/13   train_loss = 1.752\n",
      "Epoch  10 Batch    5/13   train_loss = 1.728\n",
      "Epoch  10 Batch   10/13   train_loss = 1.576\n",
      "Epoch  11 Batch    2/13   train_loss = 1.547\n",
      "Epoch  11 Batch    7/13   train_loss = 1.380\n",
      "Epoch  11 Batch   12/13   train_loss = 1.353\n",
      "Epoch  12 Batch    4/13   train_loss = 1.284\n",
      "Epoch  12 Batch    9/13   train_loss = 1.216\n",
      "Epoch  13 Batch    1/13   train_loss = 1.145\n",
      "Epoch  13 Batch    6/13   train_loss = 1.059\n",
      "Epoch  13 Batch   11/13   train_loss = 1.027\n",
      "Epoch  14 Batch    3/13   train_loss = 0.988\n",
      "Epoch  14 Batch    8/13   train_loss = 0.952\n",
      "Epoch  15 Batch    0/13   train_loss = 0.879\n",
      "Epoch  15 Batch    5/13   train_loss = 0.864\n",
      "Epoch  15 Batch   10/13   train_loss = 0.774\n",
      "Epoch  16 Batch    2/13   train_loss = 0.769\n",
      "Epoch  16 Batch    7/13   train_loss = 0.691\n",
      "Epoch  16 Batch   12/13   train_loss = 0.660\n",
      "Epoch  17 Batch    4/13   train_loss = 0.654\n",
      "Epoch  17 Batch    9/13   train_loss = 0.599\n",
      "Epoch  18 Batch    1/13   train_loss = 0.573\n",
      "Epoch  18 Batch    6/13   train_loss = 0.547\n",
      "Epoch  18 Batch   11/13   train_loss = 0.509\n",
      "Epoch  19 Batch    3/13   train_loss = 0.521\n",
      "Epoch  19 Batch    8/13   train_loss = 0.487\n",
      "Epoch  20 Batch    0/13   train_loss = 0.452\n",
      "Epoch  20 Batch    5/13   train_loss = 0.457\n",
      "Epoch  20 Batch   10/13   train_loss = 0.409\n",
      "Epoch  21 Batch    2/13   train_loss = 0.405\n",
      "Epoch  21 Batch    7/13   train_loss = 0.381\n",
      "Epoch  21 Batch   12/13   train_loss = 0.366\n",
      "Epoch  22 Batch    4/13   train_loss = 0.358\n",
      "Epoch  22 Batch    9/13   train_loss = 0.341\n",
      "Epoch  23 Batch    1/13   train_loss = 0.334\n",
      "Epoch  23 Batch    6/13   train_loss = 0.313\n",
      "Epoch  23 Batch   11/13   train_loss = 0.304\n",
      "Epoch  24 Batch    3/13   train_loss = 0.297\n",
      "Epoch  24 Batch    8/13   train_loss = 0.300\n",
      "Epoch  25 Batch    0/13   train_loss = 0.264\n",
      "Epoch  25 Batch    5/13   train_loss = 0.266\n",
      "Epoch  25 Batch   10/13   train_loss = 0.261\n",
      "Epoch  26 Batch    2/13   train_loss = 0.250\n",
      "Epoch  26 Batch    7/13   train_loss = 0.238\n",
      "Epoch  26 Batch   12/13   train_loss = 0.236\n",
      "Epoch  27 Batch    4/13   train_loss = 0.228\n",
      "Epoch  27 Batch    9/13   train_loss = 0.220\n",
      "Epoch  28 Batch    1/13   train_loss = 0.225\n",
      "Epoch  28 Batch    6/13   train_loss = 0.206\n",
      "Epoch  28 Batch   11/13   train_loss = 0.208\n",
      "Epoch  29 Batch    3/13   train_loss = 0.214\n",
      "Epoch  29 Batch    8/13   train_loss = 0.207\n",
      "Epoch  30 Batch    0/13   train_loss = 0.188\n",
      "Epoch  30 Batch    5/13   train_loss = 0.203\n",
      "Epoch  30 Batch   10/13   train_loss = 0.196\n",
      "Epoch  31 Batch    2/13   train_loss = 0.191\n",
      "Epoch  31 Batch    7/13   train_loss = 0.201\n",
      "Epoch  31 Batch   12/13   train_loss = 0.184\n",
      "Epoch  32 Batch    4/13   train_loss = 0.181\n",
      "Epoch  32 Batch    9/13   train_loss = 0.185\n",
      "Epoch  33 Batch    1/13   train_loss = 0.190\n",
      "Epoch  33 Batch    6/13   train_loss = 0.175\n",
      "Epoch  33 Batch   11/13   train_loss = 0.182\n",
      "Epoch  34 Batch    3/13   train_loss = 0.186\n",
      "Epoch  34 Batch    8/13   train_loss = 0.183\n",
      "Epoch  35 Batch    0/13   train_loss = 0.167\n",
      "Epoch  35 Batch    5/13   train_loss = 0.174\n",
      "Epoch  35 Batch   10/13   train_loss = 0.173\n",
      "Epoch  36 Batch    2/13   train_loss = 0.175\n",
      "Epoch  36 Batch    7/13   train_loss = 0.175\n",
      "Epoch  36 Batch   12/13   train_loss = 0.166\n",
      "Epoch  37 Batch    4/13   train_loss = 0.164\n",
      "Epoch  37 Batch    9/13   train_loss = 0.164\n",
      "Epoch  38 Batch    1/13   train_loss = 0.170\n",
      "Epoch  38 Batch    6/13   train_loss = 0.159\n",
      "Epoch  38 Batch   11/13   train_loss = 0.159\n",
      "Epoch  39 Batch    3/13   train_loss = 0.167\n",
      "Epoch  39 Batch    8/13   train_loss = 0.167\n",
      "Epoch  40 Batch    0/13   train_loss = 0.148\n",
      "Epoch  40 Batch    5/13   train_loss = 0.154\n",
      "Epoch  40 Batch   10/13   train_loss = 0.163\n",
      "Epoch  41 Batch    2/13   train_loss = 0.156\n",
      "Epoch  41 Batch    7/13   train_loss = 0.164\n",
      "Epoch  41 Batch   12/13   train_loss = 0.153\n",
      "Epoch  42 Batch    4/13   train_loss = 0.151\n",
      "Epoch  42 Batch    9/13   train_loss = 0.156\n",
      "Epoch  43 Batch    1/13   train_loss = 0.161\n",
      "Epoch  43 Batch    6/13   train_loss = 0.152\n",
      "Epoch  43 Batch   11/13   train_loss = 0.153\n",
      "Epoch  44 Batch    3/13   train_loss = 0.163\n",
      "Epoch  44 Batch    8/13   train_loss = 0.162\n",
      "Epoch  45 Batch    0/13   train_loss = 0.144\n",
      "Epoch  45 Batch    5/13   train_loss = 0.148\n",
      "Epoch  45 Batch   10/13   train_loss = 0.159\n",
      "Epoch  46 Batch    2/13   train_loss = 0.153\n",
      "Epoch  46 Batch    7/13   train_loss = 0.160\n",
      "Epoch  46 Batch   12/13   train_loss = 0.150\n",
      "Epoch  47 Batch    4/13   train_loss = 0.150\n",
      "Epoch  47 Batch    9/13   train_loss = 0.154\n",
      "Epoch  48 Batch    1/13   train_loss = 0.158\n",
      "Epoch  48 Batch    6/13   train_loss = 0.151\n",
      "Epoch  48 Batch   11/13   train_loss = 0.150\n",
      "Epoch  49 Batch    3/13   train_loss = 0.159\n",
      "Epoch  49 Batch    8/13   train_loss = 0.160\n",
      "Epoch  50 Batch    0/13   train_loss = 0.142\n",
      "Epoch  50 Batch    5/13   train_loss = 0.147\n",
      "Epoch  50 Batch   10/13   train_loss = 0.157\n",
      "Epoch  51 Batch    2/13   train_loss = 0.150\n",
      "Epoch  51 Batch    7/13   train_loss = 0.159\n",
      "Epoch  51 Batch   12/13   train_loss = 0.149\n",
      "Epoch  52 Batch    4/13   train_loss = 0.146\n",
      "Epoch  52 Batch    9/13   train_loss = 0.152\n",
      "Epoch  53 Batch    1/13   train_loss = 0.157\n",
      "Epoch  53 Batch    6/13   train_loss = 0.148\n",
      "Epoch  53 Batch   11/13   train_loss = 0.149\n",
      "Epoch  54 Batch    3/13   train_loss = 0.159\n",
      "Epoch  54 Batch    8/13   train_loss = 0.158\n",
      "Epoch  55 Batch    0/13   train_loss = 0.140\n",
      "Epoch  55 Batch    5/13   train_loss = 0.144\n",
      "Epoch  55 Batch   10/13   train_loss = 0.155\n",
      "Epoch  56 Batch    2/13   train_loss = 0.150\n",
      "Epoch  56 Batch    7/13   train_loss = 0.157\n",
      "Epoch  56 Batch   12/13   train_loss = 0.147\n",
      "Epoch  57 Batch    4/13   train_loss = 0.146\n",
      "Epoch  57 Batch    9/13   train_loss = 0.152\n",
      "Epoch  58 Batch    1/13   train_loss = 0.154\n",
      "Epoch  58 Batch    6/13   train_loss = 0.148\n",
      "Epoch  58 Batch   11/13   train_loss = 0.148\n",
      "Epoch  59 Batch    3/13   train_loss = 0.157\n",
      "Epoch  59 Batch    8/13   train_loss = 0.157\n",
      "Epoch  60 Batch    0/13   train_loss = 0.139\n",
      "Epoch  60 Batch    5/13   train_loss = 0.144\n",
      "Epoch  60 Batch   10/13   train_loss = 0.154\n",
      "Epoch  61 Batch    2/13   train_loss = 0.148\n",
      "Epoch  61 Batch    7/13   train_loss = 0.156\n",
      "Epoch  61 Batch   12/13   train_loss = 0.146\n",
      "Epoch  62 Batch    4/13   train_loss = 0.144\n",
      "Epoch  62 Batch    9/13   train_loss = 0.149\n",
      "Epoch  63 Batch    1/13   train_loss = 0.154\n",
      "Epoch  63 Batch    6/13   train_loss = 0.146\n",
      "Epoch  63 Batch   11/13   train_loss = 0.146\n",
      "Epoch  64 Batch    3/13   train_loss = 0.157\n",
      "Epoch  64 Batch    8/13   train_loss = 0.156\n",
      "Epoch  65 Batch    0/13   train_loss = 0.138\n",
      "Epoch  65 Batch    5/13   train_loss = 0.143\n",
      "Epoch  65 Batch   10/13   train_loss = 0.153\n",
      "Epoch  66 Batch    2/13   train_loss = 0.148\n",
      "Epoch  66 Batch    7/13   train_loss = 0.155\n",
      "Epoch  66 Batch   12/13   train_loss = 0.145\n",
      "Epoch  67 Batch    4/13   train_loss = 0.144\n",
      "Epoch  67 Batch    9/13   train_loss = 0.150\n",
      "Epoch  68 Batch    1/13   train_loss = 0.153\n",
      "Epoch  68 Batch    6/13   train_loss = 0.146\n",
      "Epoch  68 Batch   11/13   train_loss = 0.146\n",
      "Epoch  69 Batch    3/13   train_loss = 0.156\n",
      "Epoch  69 Batch    8/13   train_loss = 0.155\n",
      "Epoch  70 Batch    0/13   train_loss = 0.138\n",
      "Epoch  70 Batch    5/13   train_loss = 0.142\n",
      "Epoch  70 Batch   10/13   train_loss = 0.153\n",
      "Epoch  71 Batch    2/13   train_loss = 0.146\n",
      "Epoch  71 Batch    7/13   train_loss = 0.155\n",
      "Epoch  71 Batch   12/13   train_loss = 0.145\n",
      "Epoch  72 Batch    4/13   train_loss = 0.143\n",
      "Epoch  72 Batch    9/13   train_loss = 0.148\n",
      "Epoch  73 Batch    1/13   train_loss = 0.153\n",
      "Epoch  73 Batch    6/13   train_loss = 0.145\n",
      "Epoch  73 Batch   11/13   train_loss = 0.145\n",
      "Epoch  74 Batch    3/13   train_loss = 0.155\n",
      "Epoch  74 Batch    8/13   train_loss = 0.155\n",
      "Epoch  75 Batch    0/13   train_loss = 0.137\n",
      "Epoch  75 Batch    5/13   train_loss = 0.142\n",
      "Epoch  75 Batch   10/13   train_loss = 0.152\n",
      "Epoch  76 Batch    2/13   train_loss = 0.146\n",
      "Epoch  76 Batch    7/13   train_loss = 0.154\n",
      "Epoch  76 Batch   12/13   train_loss = 0.144\n",
      "Epoch  77 Batch    4/13   train_loss = 0.142\n",
      "Epoch  77 Batch    9/13   train_loss = 0.149\n",
      "Epoch  78 Batch    1/13   train_loss = 0.151\n",
      "Epoch  78 Batch    6/13   train_loss = 0.145\n",
      "Epoch  78 Batch   11/13   train_loss = 0.145\n",
      "Epoch  79 Batch    3/13   train_loss = 0.155\n",
      "Epoch  79 Batch    8/13   train_loss = 0.154\n",
      "Epoch  80 Batch    0/13   train_loss = 0.136\n",
      "Epoch  80 Batch    5/13   train_loss = 0.141\n",
      "Epoch  80 Batch   10/13   train_loss = 0.152\n",
      "Epoch  81 Batch    2/13   train_loss = 0.145\n",
      "Epoch  81 Batch    7/13   train_loss = 0.153\n",
      "Epoch  81 Batch   12/13   train_loss = 0.144\n",
      "Epoch  82 Batch    4/13   train_loss = 0.141\n",
      "Epoch  82 Batch    9/13   train_loss = 0.147\n",
      "Epoch  83 Batch    1/13   train_loss = 0.151\n",
      "Epoch  83 Batch    6/13   train_loss = 0.144\n",
      "Epoch  83 Batch   11/13   train_loss = 0.144\n",
      "Epoch  84 Batch    3/13   train_loss = 0.154\n",
      "Epoch  84 Batch    8/13   train_loss = 0.154\n",
      "Epoch  85 Batch    0/13   train_loss = 0.136\n",
      "Epoch  85 Batch    5/13   train_loss = 0.140\n",
      "Epoch  85 Batch   10/13   train_loss = 0.151\n",
      "Epoch  86 Batch    2/13   train_loss = 0.145\n",
      "Epoch  86 Batch    7/13   train_loss = 0.153\n",
      "Epoch  86 Batch   12/13   train_loss = 0.143\n",
      "Epoch  87 Batch    4/13   train_loss = 0.141\n",
      "Epoch  87 Batch    9/13   train_loss = 0.148\n",
      "Epoch  88 Batch    1/13   train_loss = 0.150\n",
      "Epoch  88 Batch    6/13   train_loss = 0.144\n",
      "Epoch  88 Batch   11/13   train_loss = 0.144\n",
      "Epoch  89 Batch    3/13   train_loss = 0.154\n",
      "Epoch  89 Batch    8/13   train_loss = 0.153\n",
      "Model Trained and Saved\n"
     ]
    }
   ],
   "source": [
    "\"\"\"\n",
    "DON'T MODIFY ANYTHING IN THIS CELL\n",
    "\"\"\"\n",
    "batches = get_batches(int_text, batch_size, seq_length)\n",
    "\n",
    "with tf.Session(graph=train_graph) as sess:\n",
    "    sess.run(tf.global_variables_initializer())\n",
    "\n",
    "    for epoch_i in range(num_epochs):\n",
    "        state = sess.run(initial_state, {input_text: batches[0][0]})\n",
    "\n",
    "        for batch_i, (x, y) in enumerate(batches):\n",
    "            feed = {\n",
    "                input_text: x,\n",
    "                targets: y,\n",
    "                initial_state: state,\n",
    "                lr: learning_rate}\n",
    "            train_loss, state, _ = sess.run([cost, final_state, train_op], feed)\n",
    "\n",
    "            # Show every <show_every_n_batches> batches\n",
    "            if (epoch_i * len(batches) + batch_i) % show_every_n_batches == 0:\n",
    "                print('Epoch {:>3} Batch {:>4}/{}   train_loss = {:.3f}'.format(\n",
    "                    epoch_i,\n",
    "                    batch_i,\n",
    "                    len(batches),\n",
    "                    train_loss))\n",
    "\n",
    "    # Save Model\n",
    "    saver = tf.train.Saver()\n",
    "    saver.save(sess, save_dir)\n",
    "    print('Model Trained and Saved')"
   ]
  },
  {
   "cell_type": "markdown",
   "metadata": {
    "deletable": true,
    "editable": true
   },
   "source": [
    "## Save Parameters\n",
    "Save `seq_length` and `save_dir` for generating a new TV script."
   ]
  },
  {
   "cell_type": "code",
   "execution_count": 17,
   "metadata": {
    "collapsed": false,
    "deletable": true,
    "editable": true
   },
   "outputs": [],
   "source": [
    "\"\"\"\n",
    "DON'T MODIFY ANYTHING IN THIS CELL\n",
    "\"\"\"\n",
    "# Save parameters for checkpoint\n",
    "helper.save_params((seq_length, save_dir))"
   ]
  },
  {
   "cell_type": "markdown",
   "metadata": {
    "deletable": true,
    "editable": true
   },
   "source": [
    "# Checkpoint"
   ]
  },
  {
   "cell_type": "code",
   "execution_count": 3,
   "metadata": {
    "collapsed": false,
    "deletable": true,
    "editable": true
   },
   "outputs": [],
   "source": [
    "\"\"\"\n",
    "DON'T MODIFY ANYTHING IN THIS CELL\n",
    "\"\"\"\n",
    "import tensorflow as tf\n",
    "import numpy as np\n",
    "import helper\n",
    "import problem_unittests as tests\n",
    "\n",
    "_, vocab_to_int, int_to_vocab, token_dict = helper.load_preprocess()\n",
    "seq_length, load_dir = helper.load_params()"
   ]
  },
  {
   "cell_type": "markdown",
   "metadata": {
    "deletable": true,
    "editable": true
   },
   "source": [
    "## Implement Generate Functions\n",
    "### Get Tensors\n",
    "Get tensors from `loaded_graph` using the function [`get_tensor_by_name()`](https://www.tensorflow.org/api_docs/python/tf/Graph#get_tensor_by_name).  Get the tensors using the following names:\n",
    "- \"input:0\"\n",
    "- \"initial_state:0\"\n",
    "- \"final_state:0\"\n",
    "- \"probs:0\"\n",
    "\n",
    "Return the tensors in the following tuple `(InputTensor, InitialStateTensor, FinalStateTensor, ProbsTensor)` "
   ]
  },
  {
   "cell_type": "code",
   "execution_count": 4,
   "metadata": {
    "collapsed": false,
    "deletable": true,
    "editable": true
   },
   "outputs": [
    {
     "name": "stdout",
     "output_type": "stream",
     "text": [
      "Tests Passed\n"
     ]
    }
   ],
   "source": [
    "def get_tensors(loaded_graph):\n",
    "    \"\"\"\n",
    "    Get input, initial state, final state, and probabilities tensor from <loaded_graph>\n",
    "    :param loaded_graph: TensorFlow graph loaded from file\n",
    "    :return: Tuple (InputTensor, InitialStateTensor, FinalStateTensor, ProbsTensor)\n",
    "    \"\"\"\n",
    "    input_tensor = loaded_graph.get_tensor_by_name('input:0')\n",
    "    initial_tensor = loaded_graph.get_tensor_by_name('initial_state:0')\n",
    "    final_tensor = loaded_graph.get_tensor_by_name('final_state:0')\n",
    "    probs_tensor = loaded_graph.get_tensor_by_name('probs:0')\n",
    "    return input_tensor, initial_tensor, final_tensor, probs_tensor\n",
    "\n",
    "\n",
    "\"\"\"\n",
    "DON'T MODIFY ANYTHING IN THIS CELL THAT IS BELOW THIS LINE\n",
    "\"\"\"\n",
    "tests.test_get_tensors(get_tensors)"
   ]
  },
  {
   "cell_type": "markdown",
   "metadata": {
    "deletable": true,
    "editable": true
   },
   "source": [
    "### Choose Word\n",
    "Implement the `pick_word()` function to select the next word using `probabilities`."
   ]
  },
  {
   "cell_type": "code",
   "execution_count": 16,
   "metadata": {
    "collapsed": false,
    "deletable": true,
    "editable": true
   },
   "outputs": [
    {
     "name": "stdout",
     "output_type": "stream",
     "text": [
      "Tests Passed\n"
     ]
    }
   ],
   "source": [
    "import operator\n",
    "def pick_word(probabilities, int_to_vocab):\n",
    "    \"\"\"\n",
    "    Pick the next word in the generated text\n",
    "    :param probabilities: Probabilites of the next word\n",
    "    :param int_to_vocab: Dictionary of word ids as the keys and words as the values\n",
    "    :return: String of the predicted word\n",
    "    \"\"\"\n",
    "    top_n = 3\n",
    "    p = np.squeeze(probabilities)\n",
    "    p[np.argsort(p)[:-top_n]] = 0\n",
    "    p = p / np.sum(p)\n",
    "    index = np.random.choice(len(int_to_vocab), 1, p=p)[0]\n",
    "    \n",
    "    word = int_to_vocab[index]\n",
    "    return word\n",
    "\n",
    "\n",
    "\"\"\"\n",
    "DON'T MODIFY ANYTHING IN THIS CELL THAT IS BELOW THIS LINE\n",
    "\"\"\"\n",
    "tests.test_pick_word(pick_word)"
   ]
  },
  {
   "cell_type": "markdown",
   "metadata": {
    "deletable": true,
    "editable": true
   },
   "source": [
    "## Generate TV Script\n",
    "This will generate the TV script for you.  Set `gen_length` to the length of TV script you want to generate."
   ]
  },
  {
   "cell_type": "code",
   "execution_count": 17,
   "metadata": {
    "collapsed": false,
    "deletable": true,
    "editable": true
   },
   "outputs": [
    {
     "name": "stdout",
     "output_type": "stream",
     "text": [
      "moe_szyslak: yeah. big deal. you got a wife. i got a rash. who cares?(off the others')\n",
      "ned_flanders: yeah, let me guess you.\n",
      "carl_carlson: and i'm magnanimous in victory.\n",
      "moe_szyslak: wow, that's the best at you could ever see that\" blue man group?\"\n",
      "marge_simpson: oh, he's on the blue man group!\n",
      "marge_simpson:(tipsy) i'm just saying that when we die, there's going to be a children's story!\n",
      "moe_szyslak:(laughs, patting out flames) ah, that's it.\n",
      "lenny_leonard: i just wanna tell you how to do us a favor.\n",
      "homer_simpson: wow! i've never seen anybody by loaded.\n",
      "moe_szyslak: yeah, yeah. take your medicine, ya lush.\n",
      "barney_gumble:(gasps) precious alcohol! soaking into shag.\n",
      "barney_gumble:(sighs) i guess i'll dance for a mr. dad, i was thinking more like drapes and a paint job. how did you feel?\n",
      "homer_simpson: why? you came to the brain-switching ceremony.\n",
      "carll\" : because i wanted to get back together with my daughter.\n",
      "homer_simpson:(looking at watch) ah. finished with fifteen seconds to the pool.\n",
      "moe_szyslak: what? gimme that.\n",
      "homer_simpson: i had the greatest guy!\n",
      "homer_simpson: moe, the new duff calendars are out! the ones with our focus group.\n",
      "moe_szyslak: oh, right. i was just using it as a coaster.\n",
      "homer_simpson:(touched) gee, thanks guys. this is just like to me.\n",
      "lenny_leonard: sorry, homer. i was born a snake-handler and i'll die a snake-handler.\n",
      "\n",
      "\n",
      "homer_simpson: moe, i need cash or they're gonna break my my legs.\n",
      "moe_szyslak: well, i gotta hand it to you, homer. and then tonight. i was just using it as a coaster.\n",
      "homer_simpson: twenty big ones on denver.\n",
      "moe_szyslak:(à la jerry lewis) coins money gold!\n",
      "moe_szyslak: see, you got the wrong guy.\n",
      "homer_simpson:(awkwardly) you dropped somethin'.\n",
      "moe_szyslak: c'mon, homer. you gotta do that.\n",
      "homer_simpson:(admitting) it's true... that's how i got the money this time.\n",
      "moe_szyslak: hey, homer. if you feel so much for some cans / an old man.\n",
      "homer_simpson: oh, moe, thank you for saving my precious... gheet!(sighs)\n",
      "moe_szyslak:(sympathetic) aw, that's my little... how about the\"(moe) my homer. have a duff!\n",
      "moe_szyslak: yeah, i can't believe you're making this the worst night of my life.(small laugh)\n",
      "moe_szyslak: so, i guess that wraps up!\n",
      "grampa_simpson: but it was on the--\n",
      "homer_simpson:(dismissive snort) call me when you get a karaoke machine.\n",
      "grampa_simpson: that's the second(raises glass).\n",
      "lenny_leonard: yeah, someone who makes our alcoholism seem so much. and then tonight alcohol only made things worse.\n",
      "homer_simpson: i just hope we put in enough steampunk, but i am from my very upset with that.\n",
      "homer_simpson: oh, don't worry about. it was a streetcorner.\n",
      "moe_szyslak:(singing) when they all should let us be... we belong to you and me.\n",
      "moe_szyslak:(pleased) really?\n",
      "moe's_thoughts:(grimly) okay there, moe.\n",
      "moe_szyslak: hey, homer.\n",
      "homer_simpson: you dirty teen.\n",
      "moe_szyslak:(being first, homer) i don't get my cash out of my cash drawer here.\n",
      "moe_szyslak: just what are you just this?\n",
      "moe_szyslak: well, if mr. x were here right now, i'd like you... when i catch you, i'm going to pull out your eyes and shove 'em up your wife.\n",
      "moe_szyslak: hey, barney, hey, what are you doing in here?\n",
      "lindsay_naegle: well... what, is that it?\n",
      "homer_simpson:(sings) so goodbye...\n",
      "chief_wiggum:(sings) my adeleine...\n",
      "barney_gumble:(sings) swe-ee-ee-ee-eet adeleine.\n",
      "seymour_skinner:(sings) my adeleine...\n",
      "moe_szyslak:(sings) i've been working on the railroad / all the live long day.\n",
      "carl_carlson: hey, mrs. l. those butter cookies you sent were tasty, and the almond ones.\n",
      "kent_brockman: dateline: kent. have one of them.\n",
      "stillwater: sir, how would you like to be heavyweight champion of the alphabet.\n",
      "homer_simpson: yeah, they're good. but i wouldn't count out the... denver broncos(lowers glass).\n",
      "moe_szyslak:(sings) i believe in youse...(sits up) you?\n",
      "homer_simpson:(to dan) i am turning my back, because i don't know.\n",
      "moe_szyslak: that's the worst name i ever heard.\n",
      "barney_gumble:(calling after him) hey, joey joe joe junior...\n",
      "homer_simpson:(sly) oh, i don't know, carl. he might be closer than you think of anything to mumble to myself. that's how i am a lot of now.\n",
      "lenny_leonard: oh, it is stupid. i think it could work, though. i even got a title:. we\n"
     ]
    }
   ],
   "source": [
    "gen_length = 1000\n",
    "# homer_simpson, moe_szyslak, or Barney_Gumble\n",
    "prime_word = 'moe_szyslak'\n",
    "\n",
    "\"\"\"\n",
    "DON'T MODIFY ANYTHING IN THIS CELL THAT IS BELOW THIS LINE\n",
    "\"\"\"\n",
    "loaded_graph = tf.Graph()\n",
    "with tf.Session(graph=loaded_graph) as sess:\n",
    "    # Load saved model\n",
    "    loader = tf.train.import_meta_graph(load_dir + '.meta')\n",
    "    loader.restore(sess, load_dir)\n",
    "\n",
    "    # Get Tensors from loaded model\n",
    "    input_text, initial_state, final_state, probs = get_tensors(loaded_graph)\n",
    "\n",
    "    # Sentences generation setup\n",
    "    gen_sentences = [prime_word + ':']\n",
    "    prev_state = sess.run(initial_state, {input_text: np.array([[1]])})\n",
    "\n",
    "    \n",
    "    # Generate sentences\n",
    "    for n in range(gen_length):\n",
    "        # Dynamic Input\n",
    "        dyn_input = [[vocab_to_int[word] for word in gen_sentences[-seq_length:]]]\n",
    "        dyn_seq_length = len(dyn_input[0])\n",
    "    \n",
    "        # Get Prediction\n",
    "        probabilities, prev_state = sess.run(\n",
    "            [probs, final_state],\n",
    "            {input_text: dyn_input, initial_state: prev_state})\n",
    "        pred_word = pick_word(probabilities[dyn_seq_length-1], int_to_vocab)\n",
    "\n",
    "        gen_sentences.append(pred_word)\n",
    "    \n",
    "    # Remove tokens\n",
    "    tv_script = ' '.join(gen_sentences)\n",
    "    for key, token in token_dict.items():\n",
    "        ending = ' ' if key in ['\\n', '(', '\"'] else ''\n",
    "        tv_script = tv_script.replace(' ' + token.lower(), key)\n",
    "    tv_script = tv_script.replace('\\n ', '\\n')\n",
    "    tv_script = tv_script.replace('( ', '(')\n",
    "        \n",
    "    print(tv_script)"
   ]
  },
  {
   "cell_type": "markdown",
   "metadata": {
    "deletable": true,
    "editable": true
   },
   "source": [
    "# The TV Script is Nonsensical\n",
    "It's ok if the TV script doesn't make any sense.  We trained on less than a megabyte of text.  In order to get good results, you'll have to use a smaller vocabulary or get more data.  Luckly there's more data!  As we mentioned in the begging of this project, this is a subset of [another dataset](https://www.kaggle.com/wcukierski/the-simpsons-by-the-data).  We didn't have you train on all the data, because that would take too long.  However, you are free to train your neural network on all the data.  After you complete the project, of course.\n",
    "# Submitting This Project\n",
    "When submitting this project, make sure to run all the cells before saving the notebook. Save the notebook file as \"dlnd_tv_script_generation.ipynb\" and save it as a HTML file under \"File\" -> \"Download as\". Include the \"helper.py\" and \"problem_unittests.py\" files in your submission."
   ]
  },
  {
   "cell_type": "code",
   "execution_count": null,
   "metadata": {
    "collapsed": true
   },
   "outputs": [],
   "source": []
  }
 ],
 "metadata": {
  "kernelspec": {
   "display_name": "Python 3",
   "language": "python",
   "name": "python3"
  },
  "language_info": {
   "codemirror_mode": {
    "name": "ipython",
    "version": 3
   },
   "file_extension": ".py",
   "mimetype": "text/x-python",
   "name": "python",
   "nbconvert_exporter": "python",
   "pygments_lexer": "ipython3",
   "version": "3.5.3"
  }
 },
 "nbformat": 4,
 "nbformat_minor": 0
}
